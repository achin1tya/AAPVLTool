{
 "cells": [
  {
   "cell_type": "code",
   "execution_count": 1,
   "metadata": {},
   "outputs": [],
   "source": [
    "import pandas as pd\n",
    "import numpy as np\n",
    "from PIL import Image\n",
    "import pytesseract\n",
    "import argparse\n",
    "import cv2\n",
    "import os\n",
    "import sys"
   ]
  },
  {
   "cell_type": "code",
   "execution_count": 3,
   "metadata": {},
   "outputs": [],
   "source": []
  },
  {
   "cell_type": "code",
   "execution_count": 3,
   "metadata": {},
   "outputs": [],
   "source": [
    "text=pd.read_csv(\"text.txt\",\" \")"
   ]
  },
  {
   "cell_type": "code",
   "execution_count": 4,
   "metadata": {},
   "outputs": [
    {
     "data": {
      "text/html": [
       "<div>\n",
       "<style scoped>\n",
       "    .dataframe tbody tr th:only-of-type {\n",
       "        vertical-align: middle;\n",
       "    }\n",
       "\n",
       "    .dataframe tbody tr th {\n",
       "        vertical-align: top;\n",
       "    }\n",
       "\n",
       "    .dataframe thead th {\n",
       "        text-align: right;\n",
       "    }\n",
       "</style>\n",
       "<table border=\"1\" class=\"dataframe\">\n",
       "  <thead>\n",
       "    <tr style=\"text-align: right;\">\n",
       "      <th></th>\n",
       "      <th>Modi</th>\n",
       "      <th>||||||||||||</th>\n",
       "      <th>G</th>\n",
       "      <th>|</th>\n",
       "      <th>Photo.</th>\n",
       "      <th>Photo</th>\n",
       "      <th>.</th>\n",
       "      <th>|.1</th>\n",
       "      <th>Are</th>\n",
       "      <th>there.</th>\n",
       "      <th>...</th>\n",
       "      <th>3.7</th>\n",
       "      <th>of.1</th>\n",
       "      <th>29.2</th>\n",
       "      <th>pages</th>\n",
       "      <th>released</th>\n",
       "      <th>by</th>\n",
       "      <th>the.2</th>\n",
       "      <th>Electoral.1</th>\n",
       "      <th>Registration</th>\n",
       "      <th>Officer</th>\n",
       "    </tr>\n",
       "  </thead>\n",
       "  <tbody>\n",
       "  </tbody>\n",
       "</table>\n",
       "<p>0 rows × 710 columns</p>\n",
       "</div>"
      ],
      "text/plain": [
       "Empty DataFrame\n",
       "Columns: [Modi, ||||||||||||, G, |, Photo., Photo, ., |.1, Are, there., Photo.1, 13, 007, -, Sadhora, (AJ), Electoral, Rolls, of, Legislative, Assembly, constituency,, 2018, Part, Number:, 196, Section:, 1-Village, Bhagwanpur,, Fold, Jagadhri,, District, Yamuna, Nagar-13102., 1, |.2, HR, /, 01/06/0357001, |.3, 2, |.4, HR.1, /.1, 01/06/0357002, 3, |.5, HR.2, /.2, 01/06/0357003, Name:, Bano, Devi, Name:.1, Desraj, Nam:, Jagindra, Devi.1, Photo.2, Mateo, Husband:, Bruce, Red, Father:, Bruce.1, Lan, |.6, Husband:.1, CountryRaj, Party, House, No., :, 1.1, |.7, House.1, no.-1, house, no., :.1, 1.2, Available, ages:, 77, Gender:, Female., Age:, 68, Sex:, Male., |.8, Age:.1, 63, Gender:.1, Women, |.9, is., 4, |.10, HR.3, ...]\n",
       "Index: []\n",
       "\n",
       "[0 rows x 710 columns]"
      ]
     },
     "execution_count": 4,
     "metadata": {},
     "output_type": "execute_result"
    }
   ],
   "source": [
    "text"
   ]
  },
  {
   "cell_type": "code",
   "execution_count": 5,
   "metadata": {},
   "outputs": [
    {
     "data": {
      "text/plain": [
       "Index(['Modi', '||||||||||||', 'G', '|', 'Photo.', 'Photo', '.', '|.1', 'Are',\n",
       "       'there.',\n",
       "       ...\n",
       "       '3.7', 'of.1', '29.2', 'pages', 'released', 'by', 'the.2',\n",
       "       'Electoral.1', 'Registration', 'Officer'],\n",
       "      dtype='object', length=710)"
      ]
     },
     "execution_count": 5,
     "metadata": {},
     "output_type": "execute_result"
    }
   ],
   "source": [
    "text.columns"
   ]
  },
  {
   "cell_type": "code",
   "execution_count": 6,
   "metadata": {},
   "outputs": [],
   "source": [
    "array=np.array(text.columns)"
   ]
  },
  {
   "cell_type": "code",
   "execution_count": 15,
   "metadata": {},
   "outputs": [],
   "source": [
    "# for word in array:\n",
    "#     print(word)"
   ]
  },
  {
   "cell_type": "code",
   "execution_count": 22,
   "metadata": {},
   "outputs": [],
   "source": []
  },
  {
   "cell_type": "code",
   "execution_count": 8,
   "metadata": {},
   "outputs": [],
   "source": [
    "from nltk.tokenize import sent_tokenize, word_tokenize"
   ]
  },
  {
   "cell_type": "code",
   "execution_count": 9,
   "metadata": {},
   "outputs": [],
   "source": [
    "from nltk.corpus import stopwords"
   ]
  },
  {
   "cell_type": "code",
   "execution_count": 10,
   "metadata": {},
   "outputs": [],
   "source": [
    "stops = set(stopwords.words('english'))"
   ]
  },
  {
   "cell_type": "code",
   "execution_count": 10,
   "metadata": {},
   "outputs": [],
   "source": []
  },
  {
   "cell_type": "code",
   "execution_count": null,
   "metadata": {},
   "outputs": [],
   "source": []
  },
  {
   "cell_type": "code",
   "execution_count": 11,
   "metadata": {},
   "outputs": [],
   "source": [
    "stops.add('.')"
   ]
  },
  {
   "cell_type": "code",
   "execution_count": 12,
   "metadata": {},
   "outputs": [],
   "source": [
    "stops.add('_')"
   ]
  },
  {
   "cell_type": "code",
   "execution_count": 13,
   "metadata": {},
   "outputs": [],
   "source": [
    "clean_words=[w for w in array if not w in stops]"
   ]
  },
  {
   "cell_type": "code",
   "execution_count": 18,
   "metadata": {},
   "outputs": [
    {
     "name": "stdout",
     "output_type": "stream",
     "text": [
      "Modi\n",
      "||||||||||||\n",
      "G\n",
      "|\n",
      "Photo.\n",
      "Photo\n",
      "|.1\n",
      "Are\n",
      "there.\n",
      "Photo.1\n",
      "13\n",
      "007\n",
      "-\n",
      "Sadhora\n",
      "(AJ)\n",
      "Electoral\n",
      "Rolls\n",
      "Legislative\n",
      "Assembly\n",
      "constituency,\n",
      "2018\n",
      "Part\n",
      "Number:\n",
      "196\n",
      "Section:\n",
      "1-Village\n",
      "Bhagwanpur,\n",
      "Fold\n",
      "Jagadhri,\n",
      "District\n"
     ]
    }
   ],
   "source": [
    "count=0\n",
    "for w in clean_words:\n",
    "    if(count<30):\n",
    "        print(w)                   # Showing 30 word as sample \n",
    "        count=count+1"
   ]
  },
  {
   "cell_type": "code",
   "execution_count": null,
   "metadata": {},
   "outputs": [],
   "source": []
  }
 ],
 "metadata": {
  "kernelspec": {
   "display_name": "Python 3",
   "language": "python",
   "name": "python3"
  },
  "language_info": {
   "codemirror_mode": {
    "name": "ipython",
    "version": 3
   },
   "file_extension": ".py",
   "mimetype": "text/x-python",
   "name": "python",
   "nbconvert_exporter": "python",
   "pygments_lexer": "ipython3",
   "version": "3.6.5"
  }
 },
 "nbformat": 4,
 "nbformat_minor": 2
}
